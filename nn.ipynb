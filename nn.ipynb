{
 "cells": [
  {
   "cell_type": "code",
   "execution_count": 1,
   "id": "initial_id",
   "metadata": {
    "collapsed": true,
    "ExecuteTime": {
     "end_time": "2024-02-21T14:56:31.914446Z",
     "start_time": "2024-02-21T14:56:29.465815Z"
    }
   },
   "outputs": [
    {
     "name": "stderr",
     "output_type": "stream",
     "text": [
      "2024-02-21 17:56:29.780206: E external/local_xla/xla/stream_executor/cuda/cuda_dnn.cc:9261] Unable to register cuDNN factory: Attempting to register factory for plugin cuDNN when one has already been registered\n",
      "2024-02-21 17:56:29.780255: E external/local_xla/xla/stream_executor/cuda/cuda_fft.cc:607] Unable to register cuFFT factory: Attempting to register factory for plugin cuFFT when one has already been registered\n",
      "2024-02-21 17:56:29.781401: E external/local_xla/xla/stream_executor/cuda/cuda_blas.cc:1515] Unable to register cuBLAS factory: Attempting to register factory for plugin cuBLAS when one has already been registered\n",
      "2024-02-21 17:56:29.788875: I tensorflow/core/platform/cpu_feature_guard.cc:182] This TensorFlow binary is optimized to use available CPU instructions in performance-critical operations.\n",
      "To enable the following instructions: AVX2 FMA, in other operations, rebuild TensorFlow with the appropriate compiler flags.\n",
      "2024-02-21 17:56:30.714331: W tensorflow/compiler/tf2tensorrt/utils/py_utils.cc:38] TF-TRT Warning: Could not find TensorRT\n"
     ]
    }
   ],
   "source": [
    "import sys\n",
    "\n",
    "import numpy as np\n",
    "\n",
    "import tensorflow as tf\n",
    "from keras.datasets import mnist\n",
    "\n",
    "from PySide6.QtWidgets import QApplication\n",
    "from PySide6.QtCore import QObject, Signal\n",
    "from PySide6.QtCore import QThread\n",
    "\n",
    "import matplotlib.pyplot as plt\n",
    "\n",
    "from UI import PlotWindow"
   ]
  },
  {
   "cell_type": "markdown",
   "source": [
    "Training class"
   ],
   "metadata": {
    "collapsed": false
   },
   "id": "4943743acba39b40"
  },
  {
   "cell_type": "code",
   "outputs": [],
   "source": [
    "class Worker(QObject):\n",
    "    finished = Signal()\n",
    "    update_plot = Signal(dict)\n",
    "\n",
    "    def __init__(self, model, X_train, y_train, X_test, y_test):\n",
    "        super().__init__()\n",
    "        self.model = model\n",
    "        self.X_train = X_train\n",
    "        self.y_train = y_train\n",
    "        self.X_test = X_test\n",
    "        self.y_test = y_test\n",
    "\n",
    "    def train_model(self):\n",
    "        history = self.model.fit(\n",
    "            self.X_train, self.y_train,\n",
    "            validation_data=(self.X_test, self.y_test),\n",
    "            batch_size=200,\n",
    "            epochs=15,\n",
    "            callbacks=[CallbackPlot(window)],\n",
    "        )\n",
    "        self.finished.emit()\n",
    "        return history"
   ],
   "metadata": {
    "collapsed": false,
    "ExecuteTime": {
     "end_time": "2024-02-21T14:56:33.113975Z",
     "start_time": "2024-02-21T14:56:33.109544Z"
    }
   },
   "id": "fc3af7ba8bc8a05f",
   "execution_count": 2
  },
  {
   "cell_type": "markdown",
   "source": [
    "Callback class, that updating plot every epoch with actual losses "
   ],
   "metadata": {
    "collapsed": false
   },
   "id": "c4d0a613b990e755"
  },
  {
   "cell_type": "code",
   "outputs": [],
   "source": [
    "class CallbackPlot(tf.keras.callbacks.Callback):\n",
    "    def __init__(self, window):\n",
    "        super().__init__()\n",
    "        self.window = window\n",
    "\n",
    "    def on_epoch_end(self, epoch, logs=None):\n",
    "        loss = logs['loss']\n",
    "        val_loss = logs['val_loss']\n",
    "        self.window.update_plot(loss, val_loss)"
   ],
   "metadata": {
    "collapsed": false,
    "ExecuteTime": {
     "end_time": "2024-02-21T14:56:33.911388Z",
     "start_time": "2024-02-21T14:56:33.827641Z"
    }
   },
   "id": "250c7886707a8b5",
   "execution_count": 3
  },
  {
   "cell_type": "markdown",
   "source": [],
   "metadata": {
    "collapsed": false
   },
   "id": "eeb5f9ed64247f7e"
  },
  {
   "cell_type": "code",
   "outputs": [
    {
     "ename": "RuntimeError",
     "evalue": "Please destroy the QApplication singleton before creating a new QApplication instance.",
     "output_type": "error",
     "traceback": [
      "\u001B[0;31m---------------------------------------------------------------------------\u001B[0m",
      "\u001B[0;31mRuntimeError\u001B[0m                              Traceback (most recent call last)",
      "Cell \u001B[0;32mIn[5], line 2\u001B[0m\n\u001B[1;32m      1\u001B[0m \u001B[38;5;28;01mif\u001B[39;00m \u001B[38;5;18m__name__\u001B[39m \u001B[38;5;241m==\u001B[39m \u001B[38;5;124m'\u001B[39m\u001B[38;5;124m__main__\u001B[39m\u001B[38;5;124m'\u001B[39m:\n\u001B[0;32m----> 2\u001B[0m     app \u001B[38;5;241m=\u001B[39m QApplication(sys\u001B[38;5;241m.\u001B[39margv)\n\u001B[1;32m      3\u001B[0m     window \u001B[38;5;241m=\u001B[39m PlotWindow()\n\u001B[1;32m      4\u001B[0m     window\u001B[38;5;241m.\u001B[39mshow()\n",
      "\u001B[0;31mRuntimeError\u001B[0m: Please destroy the QApplication singleton before creating a new QApplication instance."
     ]
    }
   ],
   "source": [
    "if __name__ == '__main__':\n",
    "    app = QApplication(sys.argv)\n",
    "    window = PlotWindow()\n",
    "    window.show()\n",
    "    \n",
    "    (X_train, y_train), (X_test, y_test) = mnist.load_data()\n",
    "    \n",
    "    model = tf.keras.Sequential([\n",
    "        tf.keras.layers.Conv2D(kernel_size=3, filters=30, input_shape=(28, 28, 1), activation='relu', padding='same'),\n",
    "        tf.keras.layers.MaxPooling2D(pool_size=(2)),\n",
    "        tf.keras.layers.Flatten(),\n",
    "        tf.keras.layers.Dense(1024, activation='relu'),\n",
    "        tf.keras.layers.Dropout(0.3),\n",
    "        tf.keras.layers.Dense(1024, activation='relu'),\n",
    "        tf.keras.layers.Dropout(0.3),\n",
    "        tf.keras.layers.Dense(10, activation='softmax')\n",
    "    ])\n",
    "    model.compile(\n",
    "        optimizer='adam',\n",
    "        loss='sparse_categorical_crossentropy',\n",
    "        metrics=['accuracy'],\n",
    "    )\n",
    "    \n",
    "    worker = Worker(model, X_train, y_train, X_test, y_test)\n",
    "    worker_thread = QThread()\n",
    "    worker.moveToThread(worker_thread)\n",
    "    worker.finished.connect(worker_thread.quit)\n",
    "    worker_thread.started.connect(worker.train_model)\n",
    "    worker_thread.start()\n",
    "    \n",
    "    sys.exit(app.exec())"
   ],
   "metadata": {
    "collapsed": false,
    "ExecuteTime": {
     "end_time": "2024-02-21T15:12:25.653067Z",
     "start_time": "2024-02-21T15:12:25.627188Z"
    }
   },
   "id": "b51842760e23bfe3",
   "execution_count": 5
  },
  {
   "cell_type": "markdown",
   "source": [
    "Test"
   ],
   "metadata": {
    "collapsed": false
   },
   "id": "8313ea4bd526b474"
  },
  {
   "cell_type": "code",
   "outputs": [],
   "source": [
    "image = tf.io.read_file('./test.png')\n",
    "image = tf.io.decode_png(image, channels=1)  # Преобразование в черно-белое\n",
    "image = tf.image.resize(image, (28, 28))     # Изменение размера\n",
    "\n",
    "# Преобразование в массив numpy и добавление размера пакета\n",
    "image = np.expand_dims(image, axis=0)"
   ],
   "metadata": {
    "collapsed": false,
    "ExecuteTime": {
     "end_time": "2024-02-18T11:05:00.001699Z",
     "start_time": "2024-02-18T11:04:59.996959Z"
    }
   },
   "id": "9aadbbc34c869767",
   "execution_count": 9
  },
  {
   "cell_type": "code",
   "outputs": [
    {
     "data": {
      "text/plain": "<tf.Tensor: shape=(1, 10), dtype=float32, numpy=\narray([[1.13688679e-04, 2.28274264e-03, 2.16965000e-05, 1.75189357e-02,\n        2.14612828e-05, 8.80097225e-02, 3.42037878e-04, 7.89923608e-01,\n        2.37179978e-04, 1.01528935e-01]], dtype=float32)>"
     },
     "execution_count": 17,
     "metadata": {},
     "output_type": "execute_result"
    }
   ],
   "source": [
    "model(image)"
   ],
   "metadata": {
    "collapsed": false,
    "ExecuteTime": {
     "end_time": "2024-02-18T11:15:49.375478Z",
     "start_time": "2024-02-18T11:15:49.353342Z"
    }
   },
   "id": "3dee537dec62a1b1",
   "execution_count": 17
  },
  {
   "cell_type": "code",
   "outputs": [
    {
     "data": {
      "text/plain": "<Figure size 640x480 with 1 Axes>",
      "image/png": "[encoded data removed]"
     },
     "metadata": {},
     "output_type": "display_data"
    }
   ],
   "source": [
    "plt.imshow(image.squeeze())\n",
    "plt.show()"
   ],
   "metadata": {
    "collapsed": false,
    "ExecuteTime": {
     "end_time": "2024-02-18T11:11:58.295110Z",
     "start_time": "2024-02-18T11:11:58.197626Z"
    }
   },
   "id": "cff9708a7784f25a",
   "execution_count": 16
  },
  {
   "cell_type": "code",
   "outputs": [],
   "source": [],
   "metadata": {
    "collapsed": false,
    "ExecuteTime": {
     "end_time": "2024-02-15T09:56:43.488842477Z",
     "start_time": "2024-02-15T09:56:43.221400062Z"
    }
   },
   "id": "3bd827881aef4074",
   "execution_count": 9
  },
  {
   "cell_type": "code",
   "outputs": [
    {
     "ename": "NameError",
     "evalue": "name 'window' is not defined",
     "output_type": "error",
     "traceback": [
      "\u001B[0;31m---------------------------------------------------------------------------\u001B[0m",
      "\u001B[0;31mNameError\u001B[0m                                 Traceback (most recent call last)",
      "Cell \u001B[0;32mIn[10], line 5\u001B[0m\n\u001B[1;32m      1\u001B[0m history \u001B[38;5;241m=\u001B[39m model\u001B[38;5;241m.\u001B[39mfit(X_train, y_train, \n\u001B[1;32m      2\u001B[0m           validation_data\u001B[38;5;241m=\u001B[39m(X_test, y_test), \n\u001B[1;32m      3\u001B[0m           batch_size\u001B[38;5;241m=\u001B[39m \u001B[38;5;241m200\u001B[39m,\n\u001B[1;32m      4\u001B[0m           epochs\u001B[38;5;241m=\u001B[39m \u001B[38;5;241m15\u001B[39m,\n\u001B[0;32m----> 5\u001B[0m           callbacks\u001B[38;5;241m=\u001B[39m[CallbackPlot(window), early_stopping])\n",
      "\u001B[0;31mNameError\u001B[0m: name 'window' is not defined"
     ]
    }
   ],
   "source": [],
   "metadata": {
    "collapsed": false,
    "ExecuteTime": {
     "end_time": "2024-02-15T09:56:44.146714928Z",
     "start_time": "2024-02-15T09:56:44.118869645Z"
    }
   },
   "id": "da8428c1574d487c",
   "execution_count": 10
  },
  {
   "cell_type": "code",
   "outputs": [],
   "source": [],
   "metadata": {
    "collapsed": false
   },
   "id": "d5d923d1ff2f18a5"
  }
 ],
 "metadata": {
  "kernelspec": {
   "display_name": "Python 3",
   "language": "python",
   "name": "python3"
  },
  "language_info": {
   "codemirror_mode": {
    "name": "ipython",
    "version": 2
   },
   "file_extension": ".py",
   "mimetype": "text/x-python",
   "name": "python",
   "nbconvert_exporter": "python",
   "pygments_lexer": "ipython2",
   "version": "2.7.6"
  }
 },
 "nbformat": 4,
 "nbformat_minor": 5
}
